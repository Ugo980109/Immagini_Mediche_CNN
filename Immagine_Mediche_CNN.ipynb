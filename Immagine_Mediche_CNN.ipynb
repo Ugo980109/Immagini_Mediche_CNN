{
  "nbformat": 4,
  "nbformat_minor": 0,
  "metadata": {
    "colab": {
      "provenance": [],
      "name": "Immagine_Mediche_CNN.ipynb",
      "authorship_tag": "ABX9TyPKQxylrweqeexZcXbFBv6c",
      "include_colab_link": true
    },
    "kernelspec": {
      "name": "python3",
      "display_name": "Python 3"
    },
    "language_info": {
      "name": "python"
    }
  },
  "cells": [
    {
      "cell_type": "markdown",
      "metadata": {
        "id": "view-in-github",
        "colab_type": "text"
      },
      "source": [
        "<a href=\"https://colab.research.google.com/github/Ugo980109/Immagini_Mediche_CNN/blob/main/Immagine_Mediche_CNN.ipynb\" target=\"_parent\"><img src=\"https://colab.research.google.com/assets/colab-badge.svg\" alt=\"Open In Colab\"/></a>"
      ]
    },
    {
      "cell_type": "code",
      "execution_count": 2,
      "metadata": {
        "id": "blZ5P8ee16EA"
      },
      "outputs": [],
      "source": [
        "import tensorflow as tf"
      ]
    },
    {
      "cell_type": "code",
      "source": [
        "from tensorflow import keras\n",
        "from tensorflow.keras.layers import InputLayer, Conv2D, Dense, Flatten\n",
        "from tensorflow.keras.models import Sequential\n",
        "import numpy as np\n",
        "import matplotlib.pyplot as plt\n",
        "from tensorflow.keras.losses import CategoricalCrossentropy\n",
        "from tensorflow.keras.optimizers import Adam"
      ],
      "metadata": {
        "id": "BO4d5M3B4WAv"
      },
      "execution_count": 3,
      "outputs": []
    },
    {
      "cell_type": "code",
      "source": [
        "from google.colab import drive\n",
        "drive.mount('/content/drive')\n",
        "import scipy.io as sio\n",
        "Dataset=sio.loadmat('/content/drive/MyDrive/Progetto_CNN/Dataset_OrganAmnist.mat')"
      ],
      "metadata": {
        "colab": {
          "base_uri": "https://localhost:8080/"
        },
        "id": "uyIz1Nj96Jy5",
        "outputId": "c7fb4d10-a232-462e-90af-5798d94c83b6"
      },
      "execution_count": 6,
      "outputs": [
        {
          "output_type": "stream",
          "name": "stdout",
          "text": [
            "Mounted at /content/drive\n"
          ]
        }
      ]
    },
    {
      "cell_type": "code",
      "source": [
        "train_images=Dataset['train_images']\n",
        "train_labels=Dataset['train_labels']\n",
        "test_images=Dataset['test_images']\n",
        "test_labels=Dataset['test_labels']\n",
        "val_images=Dataset['val_images']\n",
        "val_labels=Dataset['val_labels']\n",
        "#Normalizzo le immagini\n",
        "train_images=train_images.astype('float32')/255\n",
        "test_images=test_images.astype('float32')/255\n",
        "val_images=val_images.astype('float32')/255"
      ],
      "metadata": {
        "id": "6LFaFiWSDY1d"
      },
      "execution_count": 20,
      "outputs": []
    },
    {
      "cell_type": "code",
      "source": [
        "np.shape(train_images)\n",
        "print(np.shape(train_images[55]))\n",
        "plt.imshow(train_images[55,:,:],cmap='gray', vmin=0, vmax=1)\n",
        "#plt.imshow(train_images[5,:,:]) foto a colori"
      ],
      "metadata": {
        "colab": {
          "base_uri": "https://localhost:8080/",
          "height": 466
        },
        "id": "df9Kh4vzDvY2",
        "outputId": "c9b3db72-5ada-4659-99d2-d17ae833bf0e"
      },
      "execution_count": 21,
      "outputs": [
        {
          "output_type": "stream",
          "name": "stdout",
          "text": [
            "(28, 28)\n"
          ]
        },
        {
          "output_type": "execute_result",
          "data": {
            "text/plain": [
              "<matplotlib.image.AxesImage at 0x7d82cb81de90>"
            ]
          },
          "metadata": {},
          "execution_count": 21
        },
        {
          "output_type": "display_data",
          "data": {
            "text/plain": [
              "<Figure size 640x480 with 1 Axes>"
            ],
            "image/png": "[encoded data removed]"
          },
          "metadata": {}
        }
      ]
    },
    {
      "cell_type": "code",
      "source": [
        "np.shape(test_images)\n",
        "plt.imshow(test_images[55,:,:],cmap='gray', vmin=0, vmax=1)\n",
        "test_labels[55]"
      ],
      "metadata": {
        "id": "xsNudNeJFXuT",
        "outputId": "d89c21e8-fb0b-448a-b879-e7773a2d9025",
        "colab": {
          "base_uri": "https://localhost:8080/",
          "height": 448
        }
      },
      "execution_count": 23,
      "outputs": [
        {
          "output_type": "execute_result",
          "data": {
            "text/plain": [
              "array([9], dtype=uint8)"
            ]
          },
          "metadata": {},
          "execution_count": 23
        },
        {
          "output_type": "display_data",
          "data": {
            "text/plain": [
              "<Figure size 640x480 with 1 Axes>"
            ],
            "image/png": "[encoded data removed]"
          },
          "metadata": {}
        }
      ]
    },
    {
      "cell_type": "code",
      "source": [
        "train_images=tf.reshape(train_images,(-1,28,28,1))\n",
        "test_images=tf.reshape(test_images,(-1,28,28,1))\n",
        "val_images=tf.reshape(val_images,(-1,28,28,1))"
      ],
      "metadata": {
        "id": "sVuCnTHyFpFA"
      },
      "execution_count": 24,
      "outputs": []
    },
    {
      "cell_type": "code",
      "source": [
        "num_classes=10\n",
        "train_labels=tf.keras.utils.to_categorical(train_labels,num_classes)\n",
        "test_labels=tf.keras.utils.to_categorical(test_labels,num_classes)\n",
        "val_labels=tf.keras.utils.to_categorical(val_labels,num_classes)"
      ],
      "metadata": {
        "id": "4R_QguauGjF3"
      },
      "execution_count": 27,
      "outputs": []
    },
    {
      "cell_type": "markdown",
      "source": [
        "Costruzione Rete Neurale Convolutiva"
      ],
      "metadata": {
        "id": "z-kmslOKGv1Y"
      }
    },
    {
      "cell_type": "code",
      "source": [
        "model=Sequential()\n",
        "model.add(InputLayer(input_shape=(28,28,1)))\n"
      ],
      "metadata": {
        "id": "C3YLkYqRGz52"
      },
      "execution_count": null,
      "outputs": []
    }
  ]
}